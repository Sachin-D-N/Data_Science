{
  "nbformat": 4,
  "nbformat_minor": 0,
  "metadata": {
    "kernelspec": {
      "display_name": "Python 3",
      "language": "python",
      "name": "python3"
    },
    "language_info": {
      "codemirror_mode": {
        "name": "ipython",
        "version": 3
      },
      "file_extension": ".py",
      "mimetype": "text/x-python",
      "name": "python",
      "nbconvert_exporter": "python",
      "pygments_lexer": "ipython3",
      "version": "3.7.3"
    },
    "colab": {
      "name": "NaiveBayes_Amazon_Food_reviews_Assignment.ipynb",
      "provenance": [],
      "include_colab_link": true
    }
  },
  "cells": [
    {
      "cell_type": "markdown",
      "metadata": {
        "id": "view-in-github",
        "colab_type": "text"
      },
      "source": [
        "<a href=\"https://colab.research.google.com/github/Sachin-D-N/Data_Science/blob/master/NaiveBayes_Amazon_Food_reviews_Assignment.ipynb\" target=\"_parent\"><img src=\"https://colab.research.google.com/assets/colab-badge.svg\" alt=\"Open In Colab\"/></a>"
      ]
    },
    {
      "cell_type": "markdown",
      "metadata": {
        "id": "6t8Hx_5UTqvt",
        "colab_type": "text"
      },
      "source": [
        "# Amazon Fine Food Reviews Analysis\n",
        "\n",
        "\n",
        "Data Source: https://www.kaggle.com/snap/amazon-fine-food-reviews <br>\n",
        "\n",
        "EDA: https://nycdatascience.com/blog/student-works/amazon-fine-foods-visualization/\n",
        "\n",
        "\n",
        "The Amazon Fine Food Reviews dataset consists of reviews of fine foods from Amazon.<br>\n",
        "\n",
        "Number of reviews: 568,454<br>\n",
        "Number of users: 256,059<br>\n",
        "Number of products: 74,258<br>\n",
        "Timespan: Oct 1999 - Oct 2012<br>\n",
        "Number of Attributes/Columns in data: 10 \n",
        "\n",
        "Attribute Information:\n",
        "\n",
        "1. Id\n",
        "2. ProductId - unique identifier for the product\n",
        "3. UserId - unqiue identifier for the user\n",
        "4. ProfileName\n",
        "5. HelpfulnessNumerator - number of users who found the review helpful\n",
        "6. HelpfulnessDenominator - number of users who indicated whether they found the review helpful or not\n",
        "7. Score - rating between 1 and 5\n",
        "8. Time - timestamp for the review\n",
        "9. Summary - brief summary of the review\n",
        "10. Text - text of the review\n",
        "\n",
        "\n",
        "#### Objective:\n",
        "Given a review, determine whether the review is positive (rating of 4 or 5) or negative (rating of 1 or 2).\n",
        "\n",
        "<br>\n",
        "[Q] How to determine if a review is positive or negative?<br>\n",
        "<br> \n",
        "[Ans] We could use Score/Rating. A rating of 4 or 5 can be cosnidered as a positive review. A rating of 1 or 2 can be considered as negative one. A review of rating 3 is considered nuetral and such reviews are ignored from our analysis. This is an approximate and proxy way of determining the polarity (positivity/negativity) of a review.\n",
        "\n",
        "\n"
      ]
    },
    {
      "cell_type": "markdown",
      "metadata": {
        "id": "Z7QdQAn9Tqvv",
        "colab_type": "text"
      },
      "source": [
        "#  Assignment : Apply Naive Bayes"
      ]
    },
    {
      "cell_type": "markdown",
      "metadata": {
        "id": "EkTvbVF3Tqvw",
        "colab_type": "text"
      },
      "source": [
        "<ol>\n",
        "    <li><strong>Apply Multinomial NaiveBayes on these feature sets</strong>\n",
        "        <ul>\n",
        "            <li><font color='red'>SET 1:</font>Review text, preprocessed one converted into vectors using (BOW)</li>\n",
        "            <li><font color='red'>SET 2:</font>Review text, preprocessed one converted into vectors using (TFIDF)</li>\n",
        "        </ul>\n",
        "    </li>\n",
        "    <br>\n",
        "    <li><strong>The hyper paramter tuning(find best Alpha)</strong>\n",
        "        <ul>\n",
        "    <li>Find the best hyper parameter which will give the maximum <a href='https://www.appliedaicourse.com/course/applied-ai-course-online/lessons/receiver-operating-characteristic-curve-roc-curve-and-auc-1/'>AUC</a> value</li>\n",
        "    <li>Consider a wide range of alpha values for hyperparameter tuning, start as low as 0.00001</li>\n",
        "    <li>Find the best hyper paramter using k-fold cross validation or simple cross validation data</li>\n",
        "    <li>Use gridsearch cv or randomsearch cv or you can also write your own for loops to do this task of hyperparameter tuning</li>\n",
        "        </ul>\n",
        "    </li>\n",
        "    <br>\n",
        "    <li><strong>Feature importance</strong>\n",
        "        <ul>\n",
        "    <li>Find the top 10 features of positive class and top 10 features of negative class for both feature sets <font color='red'>Set 1</font> and <font color='red'>Set 2</font> using values of `feature_log_prob_` parameter of  <a href='https://scikit-learn.org/stable/modules/generated/sklearn.naive_bayes.MultinomialNB.html'>MultinomialNB</a> and print their corresponding feature names</li>\n",
        "        </ul>\n",
        "    </li>\n",
        "    <br>\n",
        "            <ul>\n",
        "            <li>Taking length of reviews as another feature.</li>\n",
        "            <li>Considering some features from review summary as well.</li>\n",
        "        </ul>\n",
        "        </ul>\n",
        "    </li>\n",
        "    <br>\n",
        "    <li><strong>Representation of results</strong>\n",
        "        <ul>\n",
        "    <li>You need to plot the performance of model both on train data and cross validation data for each hyper parameter, like shown in the figure. Here on X-axis you will have alpha values, since they have a wide range, just to represent those alpha values on the graph, apply log function on those alpha values.\n",
        "     </li>\n",
        "    <li>Once after you found the best hyper parameter, you need to train your model with it, and find the AUC on test data and plot the ROC curve on both train and test.\n",
        "    </li>\n",
        "    <li>Along with plotting ROC curve, you need to print the <a href='https://www.appliedaicourse.com/course/applied-ai-course-online/lessons/confusion-matrix-tpr-fpr-fnr-tnr-1/'>confusion matrix</a> with predicted and original labels of test data points. Please visualize your confusion matrices using \n",
        "        <a href='https://seaborn.pydata.org/generated/seaborn.heatmap.html'>seaborn heatmaps.</li>\n",
        "        </ul>\n",
        "    </li>\n",
        "    <br>\n",
        "    <li><strong>Conclusion</strong>\n",
        "        <ul>\n",
        "    <li>You need to summarize the results at the end of the notebook, summarize it in the table format. To print out a table please refer to this prettytable library<a href='http://zetcode.com/python/prettytable/'>  link</a> \n",
        "  \n",
        "</ol>"
      ]
    },
    {
      "cell_type": "markdown",
      "metadata": {
        "id": "0dgzKACDTqvx",
        "colab_type": "text"
      },
      "source": [
        "###  we already strored the preprocessed_data in a file to know the preprocessing steps visit <a href='https://github.com/Sachin-D-N/Amazon_Food_Reviews/blob/master/Amazon_Food_Reviews_Sentiment_Analysis/Assignment%20_1_tSNE%20analysis/Amazon%20Fine%20Food%20Reviews%20Analysis.ipynb'>here </a>"
      ]
    },
    {
      "cell_type": "code",
      "metadata": {
        "id": "TXTnulr6Tqvy",
        "colab_type": "code",
        "colab": {}
      },
      "source": [
        "#loading Libraries\n",
        "import numpy as np\n",
        "import pandas as pd"
      ],
      "execution_count": null,
      "outputs": []
    },
    {
      "cell_type": "code",
      "metadata": {
        "id": "QP3DtTbuT5D_",
        "colab_type": "code",
        "colab": {
          "base_uri": "https://localhost:8080/",
          "height": 118
        },
        "outputId": "2d16933e-1f89-42ec-d2e4-a1f40db5f7a4"
      },
      "source": [
        "from google.colab import drive\n",
        "drive.mount('/content/drive')"
      ],
      "execution_count": null,
      "outputs": [
        {
          "output_type": "stream",
          "text": [
            "Go to this URL in a browser: https://accounts.google.com/o/oauth2/auth?client_id=947318989803-6bn6qk8qdgf4n4g3pfee6491hc0brc4i.apps.googleusercontent.com&redirect_uri=urn%3aietf%3awg%3aoauth%3a2.0%3aoob&scope=email%20https%3a%2f%2fwww.googleapis.com%2fauth%2fdocs.test%20https%3a%2f%2fwww.googleapis.com%2fauth%2fdrive%20https%3a%2f%2fwww.googleapis.com%2fauth%2fdrive.photos.readonly%20https%3a%2f%2fwww.googleapis.com%2fauth%2fpeopleapi.readonly&response_type=code\n",
            "\n",
            "Enter your authorization code:\n",
            "··········\n",
            "Mounted at /content/drive\n"
          ],
          "name": "stdout"
        }
      ]
    },
    {
      "cell_type": "code",
      "metadata": {
        "id": "CHQF1dtaTqwJ",
        "colab_type": "code",
        "colab": {}
      },
      "source": [
        "#load the preprocessed data we use only 100000 points for issue of Memory Error\n",
        "data=pd.read_csv('/content/drive/My Drive/preprocessed_data.csv' )"
      ],
      "execution_count": null,
      "outputs": []
    },
    {
      "cell_type": "code",
      "metadata": {
        "id": "q8hYXuhrTqwS",
        "colab_type": "code",
        "colab": {
          "base_uri": "https://localhost:8080/",
          "height": 337
        },
        "outputId": "0752e81b-d6be-4bc3-ced1-352833dd2111"
      },
      "source": [
        "data.head()"
      ],
      "execution_count": null,
      "outputs": [
        {
          "output_type": "execute_result",
          "data": {
            "text/html": [
              "<div>\n",
              "<style scoped>\n",
              "    .dataframe tbody tr th:only-of-type {\n",
              "        vertical-align: middle;\n",
              "    }\n",
              "\n",
              "    .dataframe tbody tr th {\n",
              "        vertical-align: top;\n",
              "    }\n",
              "\n",
              "    .dataframe thead th {\n",
              "        text-align: right;\n",
              "    }\n",
              "</style>\n",
              "<table border=\"1\" class=\"dataframe\">\n",
              "  <thead>\n",
              "    <tr style=\"text-align: right;\">\n",
              "      <th></th>\n",
              "      <th>Id</th>\n",
              "      <th>ProductId</th>\n",
              "      <th>UserId</th>\n",
              "      <th>ProfileName</th>\n",
              "      <th>HelpfulnessNumerator</th>\n",
              "      <th>HelpfulnessDenominator</th>\n",
              "      <th>Score</th>\n",
              "      <th>Time</th>\n",
              "      <th>Summary</th>\n",
              "      <th>Text</th>\n",
              "      <th>preprocessed_reviews</th>\n",
              "      <th>preprocessed_summary</th>\n",
              "    </tr>\n",
              "  </thead>\n",
              "  <tbody>\n",
              "    <tr>\n",
              "      <th>0</th>\n",
              "      <td>150524</td>\n",
              "      <td>0006641040</td>\n",
              "      <td>ACITT7DI6IDDL</td>\n",
              "      <td>shari zychinski</td>\n",
              "      <td>0</td>\n",
              "      <td>0</td>\n",
              "      <td>1</td>\n",
              "      <td>939340800</td>\n",
              "      <td>EVERY book is educational</td>\n",
              "      <td>this witty little book makes my son laugh at l...</td>\n",
              "      <td>witti littl book make son laugh loud recit car...</td>\n",
              "      <td>everi book educ</td>\n",
              "    </tr>\n",
              "    <tr>\n",
              "      <th>1</th>\n",
              "      <td>150506</td>\n",
              "      <td>0006641040</td>\n",
              "      <td>A2IW4PEEKO2R0U</td>\n",
              "      <td>Tracy</td>\n",
              "      <td>1</td>\n",
              "      <td>1</td>\n",
              "      <td>1</td>\n",
              "      <td>1194739200</td>\n",
              "      <td>Love the book, miss the hard cover version</td>\n",
              "      <td>I grew up reading these Sendak books, and watc...</td>\n",
              "      <td>grew read sendak book watch realli rosi movi i...</td>\n",
              "      <td>love book miss hard cover version</td>\n",
              "    </tr>\n",
              "    <tr>\n",
              "      <th>2</th>\n",
              "      <td>150507</td>\n",
              "      <td>0006641040</td>\n",
              "      <td>A1S4A3IQ2MU7V4</td>\n",
              "      <td>sally sue \"sally sue\"</td>\n",
              "      <td>1</td>\n",
              "      <td>1</td>\n",
              "      <td>1</td>\n",
              "      <td>1191456000</td>\n",
              "      <td>chicken soup with rice months</td>\n",
              "      <td>This is a fun way for children to learn their ...</td>\n",
              "      <td>fun way children learn month year learn poem t...</td>\n",
              "      <td>chicken soup rice month</td>\n",
              "    </tr>\n",
              "    <tr>\n",
              "      <th>3</th>\n",
              "      <td>150508</td>\n",
              "      <td>0006641040</td>\n",
              "      <td>AZGXZ2UUK6X</td>\n",
              "      <td>Catherine Hallberg \"(Kate)\"</td>\n",
              "      <td>1</td>\n",
              "      <td>1</td>\n",
              "      <td>1</td>\n",
              "      <td>1076025600</td>\n",
              "      <td>a good swingy rhythm for reading aloud</td>\n",
              "      <td>This is a great little book to read aloud- it ...</td>\n",
              "      <td>great littl book read aloud nice rhythm well g...</td>\n",
              "      <td>good swingi rhythm read aloud</td>\n",
              "    </tr>\n",
              "    <tr>\n",
              "      <th>4</th>\n",
              "      <td>150509</td>\n",
              "      <td>0006641040</td>\n",
              "      <td>A3CMRKGE0P909G</td>\n",
              "      <td>Teresa</td>\n",
              "      <td>3</td>\n",
              "      <td>4</td>\n",
              "      <td>1</td>\n",
              "      <td>1018396800</td>\n",
              "      <td>A great way to learn the months</td>\n",
              "      <td>This is a book of poetry about the months of t...</td>\n",
              "      <td>book poetri month year goe month cute littl po...</td>\n",
              "      <td>great way learn month</td>\n",
              "    </tr>\n",
              "  </tbody>\n",
              "</table>\n",
              "</div>"
            ],
            "text/plain": [
              "       Id  ...               preprocessed_summary\n",
              "0  150524  ...                    everi book educ\n",
              "1  150506  ...  love book miss hard cover version\n",
              "2  150507  ...            chicken soup rice month\n",
              "3  150508  ...      good swingi rhythm read aloud\n",
              "4  150509  ...              great way learn month\n",
              "\n",
              "[5 rows x 12 columns]"
            ]
          },
          "metadata": {
            "tags": []
          },
          "execution_count": 5
        }
      ]
    },
    {
      "cell_type": "code",
      "metadata": {
        "id": "LBy8o2W4Tqwd",
        "colab_type": "code",
        "colab": {}
      },
      "source": [
        "#use preprocessed_reviews and score for building a model\n",
        "X=data['preprocessed_reviews'].values\n",
        "Y=data['Score'].values"
      ],
      "execution_count": null,
      "outputs": []
    },
    {
      "cell_type": "code",
      "metadata": {
        "id": "X2UXqYrATqwh",
        "colab_type": "code",
        "colab": {
          "base_uri": "https://localhost:8080/",
          "height": 50
        },
        "outputId": "b1aca195-78ca-4383-c37a-241fef1af8d7"
      },
      "source": [
        "print(X.shape)\n",
        "print(Y.shape)"
      ],
      "execution_count": null,
      "outputs": [
        {
          "output_type": "stream",
          "text": [
            "(364171,)\n",
            "(364171,)\n"
          ],
          "name": "stdout"
        }
      ]
    },
    {
      "cell_type": "markdown",
      "metadata": {
        "id": "MZUmg0zXTqwn",
        "colab_type": "text"
      },
      "source": [
        "# Applying NaviveBayes on BOW Features"
      ]
    },
    {
      "cell_type": "code",
      "metadata": {
        "id": "iDdkuAk4Tqwo",
        "colab_type": "code",
        "colab": {
          "base_uri": "https://localhost:8080/",
          "height": 50
        },
        "outputId": "cc1d5ee8-7b63-4ead-9fa2-f2e66bcbebac"
      },
      "source": [
        "#define a function for splitting of data\n",
        "from sklearn.model_selection import train_test_split\n",
        "X_train,X_test,Y_train,Y_test=train_test_split(X,Y,test_size=0.3)\n",
        "print(X_train.shape,Y_train.shape)\n",
        "print(X_test.shape,Y_test.shape)"
      ],
      "execution_count": null,
      "outputs": [
        {
          "output_type": "stream",
          "text": [
            "(254919,) (254919,)\n",
            "(109252,) (109252,)\n"
          ],
          "name": "stdout"
        }
      ]
    },
    {
      "cell_type": "code",
      "metadata": {
        "id": "HYCrBrwqTqwu",
        "colab_type": "code",
        "colab": {
          "base_uri": "https://localhost:8080/",
          "height": 50
        },
        "outputId": "03c0744a-0b16-4dd5-8f0f-27a20d8b18d0"
      },
      "source": [
        "#Apply Bow Features on Splitted data\n",
        "from sklearn.feature_extraction.text import CountVectorizer\n",
        "Vect=CountVectorizer()\n",
        "X_train_Bow=Vect.fit_transform(X_train)\n",
        "X_test_Bow=Vect.transform(X_test)\n",
        "print(X_train_Bow.shape,Y_train.shape)\n",
        "print(X_test_Bow.shape,Y_test.shape)"
      ],
      "execution_count": null,
      "outputs": [
        {
          "output_type": "stream",
          "text": [
            "(254919, 72294) (254919,)\n",
            "(109252, 72294) (109252,)\n"
          ],
          "name": "stdout"
        }
      ]
    },
    {
      "cell_type": "code",
      "metadata": {
        "id": "0eJ_aMXKTqwy",
        "colab_type": "code",
        "colab": {}
      },
      "source": [
        "X_train=X_train_Bow\n",
        "X_test=X_test_Bow"
      ],
      "execution_count": null,
      "outputs": []
    },
    {
      "cell_type": "code",
      "metadata": {
        "id": "-U3U8QN6WSaM",
        "colab_type": "code",
        "colab": {}
      },
      "source": [
        "#hyperparameter tuning for find optimal_K\n",
        "from sklearn.model_selection import GridSearchCV\n",
        "from sklearn.model_selection import KFold\n",
        "from sklearn.naive_bayes import MultinomialNB\n",
        "from sklearn.metrics import confusion_matrix,roc_curve,auc\n",
        "from sklearn.metrics import roc_auc_score\n",
        "import matplotlib.pyplot as plt\n",
        "import seaborn as sns\n",
        "import pandas.util.testing as tm\n",
        "import math"
      ],
      "execution_count": null,
      "outputs": []
    },
    {
      "cell_type": "code",
      "metadata": {
        "id": "OctTWygAYp2E",
        "colab_type": "code",
        "colab": {}
      },
      "source": [
        "#Grid Search Cross validation for hyper_parameter tuning\n",
        "def Grid_search(X_train,Y_train):\n",
        "    cv=KFold(n_splits=5) #defining the K-fold cross validation\n",
        "    alpha_values = [0.00001,0.0001,0.001,0.01,0.1,1,10,100,1000,10000,100000]#alpha from 10^-5 to 10^5\n",
        "    model=MultinomialNB()\n",
        "    parameters = {'alpha':alpha_values}\n",
        "    clf = GridSearchCV(model,parameters, cv=cv, scoring='roc_auc',return_train_score=True,verbose=1)\n",
        "    clf.fit(X_train, Y_train)\n",
        "    \n",
        "    results = pd.DataFrame.from_dict(clf.cv_results_)\n",
        "    results = results.sort_values(['param_alpha'])\n",
        "\n",
        "    train_auc= clf.cv_results_['mean_train_score']\n",
        "    train_auc_std= clf.cv_results_['std_train_score']\n",
        "    cv_auc = clf.cv_results_['mean_test_score'] \n",
        "    cv_auc_std= clf.cv_results_['std_test_score']\n",
        "    best_alpha= clf.best_params_['alpha']\n",
        "    \n",
        "    sns.set()\n",
        "    alpha_values=[math.log(x) for x in alpha_values]\n",
        "    plt.plot(alpha_values, train_auc, label='Train AUC')\n",
        "    # this code is copied from here: https://stackoverflow.com/a/48803361/4084039\n",
        "    plt.gca().fill_between(alpha_values,train_auc - train_auc_std,train_auc + train_auc_std,alpha=0.2,color='darkblue')\n",
        "\n",
        "    plt.plot(alpha_values, cv_auc, label='CV AUC')\n",
        "    # this code is copied from here: https://stackoverflow.com/a/48803361/4084039\n",
        "    plt.gca().fill_between(alpha_values,cv_auc - cv_auc_std,cv_auc + cv_auc_std,alpha=0.2,color='darkorange')\n",
        "    plt.scatter(alpha_values, train_auc, label='Train AUC points')\n",
        "    plt.scatter(alpha_values, cv_auc, label='CV AUC points')\n",
        "    plt.legend()\n",
        "    plt.xlabel(\"alpha_values: hyperparameter\")\n",
        "    plt.ylabel(\"AUC\")\n",
        "    plt.title(\"ERROR PLOTS\")\n",
        "    plt.show()\n",
        "    \n",
        "    print(\"Best cross-validation score: {:.3f}\".format(clf.best_score_))\n",
        "    print('The best alpha from gridsearch :',best_alpha)\n",
        "    return  best_alpha"
      ],
      "execution_count": null,
      "outputs": []
    },
    {
      "cell_type": "code",
      "metadata": {
        "id": "o633zFt2Z3yF",
        "colab_type": "code",
        "colab": {
          "base_uri": "https://localhost:8080/",
          "height": 382
        },
        "outputId": "d92aca17-4b21-4f71-ba2c-dc81818f2fe6"
      },
      "source": [
        "#finding the best alpha using grid serach\n",
        "#we are already defined a function juct call it now\n",
        "best_alpha=Grid_search(X_train,Y_train)"
      ],
      "execution_count": null,
      "outputs": [
        {
          "output_type": "stream",
          "text": [
            "Fitting 5 folds for each of 11 candidates, totalling 55 fits\n"
          ],
          "name": "stdout"
        },
        {
          "output_type": "stream",
          "text": [
            "[Parallel(n_jobs=1)]: Using backend SequentialBackend with 1 concurrent workers.\n",
            "[Parallel(n_jobs=1)]: Done  55 out of  55 | elapsed:   17.4s finished\n"
          ],
          "name": "stderr"
        },
        {
          "output_type": "display_data",
          "data": {
            "image/png": "[encoded data removed]",
            "text/plain": [
              "<Figure size 432x288 with 1 Axes>"
            ]
          },
          "metadata": {
            "tags": []
          }
        },
        {
          "output_type": "stream",
          "text": [
            "Best cross-validation score: 0.917\n",
            "The best k from gridsearch : 0.1\n"
          ],
          "name": "stdout"
        }
      ]
    },
    {
      "cell_type": "code",
      "metadata": {
        "id": "1C-jsDTXer9o",
        "colab_type": "code",
        "colab": {
          "base_uri": "https://localhost:8080/",
          "height": 33
        },
        "outputId": "e085d317-d43d-48b7-a1e7-c6461280a080"
      },
      "source": [
        "#best alpha by grid search hyper parameter tuning\n",
        "best_alpha"
      ],
      "execution_count": null,
      "outputs": [
        {
          "output_type": "execute_result",
          "data": {
            "text/plain": [
              "0.1"
            ]
          },
          "metadata": {
            "tags": []
          },
          "execution_count": 41
        }
      ]
    },
    {
      "cell_type": "code",
      "metadata": {
        "id": "nxwOQrJLitY-",
        "colab_type": "code",
        "colab": {}
      },
      "source": [
        "#function for testing test data\n",
        "# https://scikit-learn.org/stable/modules/generated/sklearn.metrics.roc_curve.html#sklearn.metrics.roc_curve\n",
        "from sklearn.metrics import roc_curve, auc\n",
        "\n",
        "def test_data(x_train,y_train,x_test,y_test):\n",
        "    model=MultinomialNB(alpha=best_alpha)\n",
        "    model.fit(x_train, y_train)\n",
        "    \n",
        "    # roc_auc_score(y_true, y_score) the 2nd parameter should be probability estimates of the positive class\n",
        "    # not the predicted outputs\n",
        "\n",
        "    train_fpr, train_tpr, thresholds = roc_curve(y_train, model.predict_proba(x_train)[:,1])\n",
        "    test_fpr, test_tpr, thresholds = roc_curve(y_test, model.predict_proba(x_test)[:,1])\n",
        "\n",
        "    sns.set()\n",
        "    plt.plot(train_fpr, train_tpr, label=\"train AUC =\"+str(auc(train_fpr, train_tpr)))\n",
        "    plt.plot(test_fpr, test_tpr, label=\"test AUC =\"+str(auc(test_fpr, test_tpr)))\n",
        "    plt.plot([0, 1], [0, 1], color='green', lw=1, linestyle='--')\n",
        "    plt.legend()\n",
        "    plt.xlabel(\"False_positive_rate\")\n",
        "    plt.ylabel(\"True positive_rate\")    \n",
        "    plt.title(\"ROC_Curve\")\n",
        "    plt.grid()\n",
        "    plt.show()\n",
        "    print('The AUC_score of test_data is :',auc(test_fpr, test_tpr))"
      ],
      "execution_count": null,
      "outputs": []
    },
    {
      "cell_type": "code",
      "metadata": {
        "id": "cZKvHzR7mH0i",
        "colab_type": "code",
        "colab": {}
      },
      "source": [
        "#defining a function for computing the metric score\n",
        "#Confusion matrix \n",
        "from sklearn.metrics import classification_report\n",
        "from sklearn.metrics import confusion_matrix\n",
        "\n",
        "def metric(x_train,y_train,x_test,y_test):\n",
        "    model=MultinomialNB(alpha=best_alpha)\n",
        "    model.fit(x_train, y_train)\n",
        "    predict=model.predict(x_test)\n",
        "\n",
        "    conf_mat = confusion_matrix(Y_test, predict)\n",
        "    class_label = [\"Negative\", \"Positive\"]\n",
        "    df = pd.DataFrame(conf_mat, index = class_label, columns = class_label)\n",
        "    \n",
        "    report=classification_report(y_test,predict)\n",
        "    print(report)\n",
        "    \n",
        "    sns.set()\n",
        "    sns.heatmap(df, annot = True,fmt=\"d\")\n",
        "    plt.title(\"Test_Confusion_Matrix\")\n",
        "    plt.xlabel(\"Predicted_Label\")\n",
        "    plt.ylabel(\"Actual_Label\")\n",
        "    plt.show()"
      ],
      "execution_count": null,
      "outputs": []
    },
    {
      "cell_type": "code",
      "metadata": {
        "id": "eO_eu8KMjcB0",
        "colab_type": "code",
        "colab": {
          "base_uri": "https://localhost:8080/",
          "height": 317
        },
        "outputId": "c4644bf7-18b2-4760-e0c6-0c854f2975a8"
      },
      "source": [
        "#test with test data we already defined a function just call the function\n",
        "test_data(X_train,Y_train,X_test,Y_test)            "
      ],
      "execution_count": null,
      "outputs": [
        {
          "output_type": "display_data",
          "data": {
            "image/png": "[encoded data removed]",
            "text/plain": [
              "<Figure size 432x288 with 1 Axes>"
            ]
          },
          "metadata": {
            "tags": []
          }
        },
        {
          "output_type": "stream",
          "text": [
            "The AUC_score of test_data is : 0.9178782721734444\n"
          ],
          "name": "stdout"
        }
      ]
    },
    {
      "cell_type": "code",
      "metadata": {
        "id": "rU0ByVg_koQP",
        "colab_type": "code",
        "colab": {
          "base_uri": "https://localhost:8080/",
          "height": 228
        },
        "outputId": "e1e4e143-1844-4a1a-9ba4-b0310b37ff85"
      },
      "source": [
        "# Top 10 important features of positive class \n",
        "feature_names=Vect.get_feature_names()\n",
        "model=MultinomialNB(alpha=best_alpha)\n",
        "model.fit(X_train, Y_train)\n",
        "a=getattr(model, 'feature_log_prob_') #Return the value of the named attribute of object. name must be a string. If the string is the name of one of the object’s attributes\n",
        "top =zip(a[1], feature_names)\n",
        "top=list(top)\n",
        "top.sort(key=lambda x: x[0])\n",
        "l=len(top)\n",
        "print('\\nThe Top 10 Positive Class Features are :\\n')\n",
        "for i in range(1,11):\n",
        "    print(top[l-i][1],end=\"\\n\")"
      ],
      "execution_count": null,
      "outputs": [
        {
          "output_type": "stream",
          "text": [
            "\n",
            "The Top 10 Positive Class Features are :\n",
            "\n",
            "not\n",
            "like\n",
            "tast\n",
            "good\n",
            "flavor\n",
            "love\n",
            "great\n",
            "use\n",
            "one\n",
            "product\n"
          ],
          "name": "stdout"
        }
      ]
    },
    {
      "cell_type": "code",
      "metadata": {
        "id": "YE1HQolVnf4c",
        "colab_type": "code",
        "colab": {
          "base_uri": "https://localhost:8080/",
          "height": 228
        },
        "outputId": "3e998d21-1983-4e02-e6f4-9206f714d6c6"
      },
      "source": [
        "# Top 10 important features of Negative class \n",
        "feature_names=Vect.get_feature_names()\n",
        "model=MultinomialNB(alpha=best_alpha)\n",
        "model.fit(X_train, Y_train)\n",
        "a=getattr(model, 'feature_log_prob_') #Return the value of the named attribute of object. name must be a string. If the string is the name of one of the object’s attributes\n",
        "top =zip(a[0], feature_names)\n",
        "top=list(top)\n",
        "top.sort(key=lambda x: x[0])\n",
        "l=len(top)\n",
        "print('\\nThe Top 10 Negative Class Features are :\\n')\n",
        "for i in range(1,11):\n",
        "    print(top[l-i][1],end=\"\\n\")"
      ],
      "execution_count": null,
      "outputs": [
        {
          "output_type": "stream",
          "text": [
            "\n",
            "The Top 10 Negative Class Features are :\n",
            "\n",
            "not\n",
            "tast\n",
            "like\n",
            "product\n",
            "would\n",
            "one\n",
            "flavor\n",
            "tri\n",
            "use\n",
            "good\n"
          ],
          "name": "stdout"
        }
      ]
    },
    {
      "cell_type": "code",
      "metadata": {
        "id": "Mio7Y0-ipMTA",
        "colab_type": "code",
        "colab": {
          "base_uri": "https://localhost:8080/",
          "height": 447
        },
        "outputId": "5b751d96-3b0e-40b7-8922-17b1d0e631c9"
      },
      "source": [
        "# computing the Performance matrics.\n",
        "# we already defined a function confusion matrix just call it.\n",
        "metric(X_train,Y_train,X_test,Y_test)"
      ],
      "execution_count": null,
      "outputs": [
        {
          "output_type": "stream",
          "text": [
            "              precision    recall  f1-score   support\n",
            "\n",
            "           0       0.68      0.71      0.70     17254\n",
            "           1       0.95      0.94      0.94     91998\n",
            "\n",
            "    accuracy                           0.90    109252\n",
            "   macro avg       0.81      0.82      0.82    109252\n",
            "weighted avg       0.90      0.90      0.90    109252\n",
            "\n"
          ],
          "name": "stdout"
        },
        {
          "output_type": "display_data",
          "data": {
            "image/png": "[encoded data removed]",
            "text/plain": [
              "<Figure size 432x288 with 2 Axes>"
            ]
          },
          "metadata": {
            "tags": []
          }
        }
      ]
    },
    {
      "cell_type": "markdown",
      "metadata": {
        "id": "_mDRzkPTrJ5p",
        "colab_type": "text"
      },
      "source": [
        "# Applying NaviveBayes on TFIDF Features"
      ]
    },
    {
      "cell_type": "code",
      "metadata": {
        "id": "bBjKfR3JsgKt",
        "colab_type": "code",
        "colab": {
          "base_uri": "https://localhost:8080/",
          "height": 50
        },
        "outputId": "3d239728-53e2-487c-fc9f-9aa311623a74"
      },
      "source": [
        "#define a function for splitting of data\n",
        "from sklearn.model_selection import train_test_split\n",
        "X_train,X_test,Y_train,Y_test=train_test_split(X,Y,test_size=0.3)\n",
        "print(X_train.shape,Y_train.shape)\n",
        "print(X_test.shape,Y_test.shape)"
      ],
      "execution_count": null,
      "outputs": [
        {
          "output_type": "stream",
          "text": [
            "(254919,) (254919,)\n",
            "(109252,) (109252,)\n"
          ],
          "name": "stdout"
        }
      ]
    },
    {
      "cell_type": "code",
      "metadata": {
        "id": "GXdtOfygqEeV",
        "colab_type": "code",
        "colab": {
          "base_uri": "https://localhost:8080/",
          "height": 50
        },
        "outputId": "3c39dc40-84e7-496d-98e7-863b9ac75e35"
      },
      "source": [
        "# difine the tf-idf vectorizer\n",
        "from sklearn.feature_extraction.text import TfidfVectorizer\n",
        "tf_idf=TfidfVectorizer(ngram_range=(2, 3),min_df=10)\n",
        "X_train_tf_idf=tf_idf.fit_transform(X_train)\n",
        "X_test_tf_idf=tf_idf.transform(X_test)\n",
        "print(X_train_tf_idf.shape,Y_train.shape)\n",
        "print(X_test_tf_idf.shape,Y_test.shape)"
      ],
      "execution_count": null,
      "outputs": [
        {
          "output_type": "stream",
          "text": [
            "(254919, 174527) (254919,)\n",
            "(109252, 174527) (109252,)\n"
          ],
          "name": "stdout"
        }
      ]
    },
    {
      "cell_type": "code",
      "metadata": {
        "id": "9HvQdsGetXtn",
        "colab_type": "code",
        "colab": {}
      },
      "source": [
        "X_train=X_train_tf_idf\n",
        "X_test=X_test_tf_idf"
      ],
      "execution_count": null,
      "outputs": []
    },
    {
      "cell_type": "code",
      "metadata": {
        "id": "tLaFvtJMsSiu",
        "colab_type": "code",
        "colab": {
          "base_uri": "https://localhost:8080/",
          "height": 382
        },
        "outputId": "417aa6b9-860e-44a5-af5b-5438d31924b0"
      },
      "source": [
        "#compute best alpha using hyperparameter tuning \n",
        "#we have already defined a function Grid_search just call it\n",
        "best_alpha=Grid_search(X_train,Y_train)"
      ],
      "execution_count": null,
      "outputs": [
        {
          "output_type": "stream",
          "text": [
            "Fitting 5 folds for each of 11 candidates, totalling 55 fits\n"
          ],
          "name": "stdout"
        },
        {
          "output_type": "stream",
          "text": [
            "[Parallel(n_jobs=1)]: Using backend SequentialBackend with 1 concurrent workers.\n",
            "[Parallel(n_jobs=1)]: Done  55 out of  55 | elapsed:   17.7s finished\n"
          ],
          "name": "stderr"
        },
        {
          "output_type": "display_data",
          "data": {
            "image/png": "[encoded data removed]",
            "text/plain": [
              "<Figure size 432x288 with 1 Axes>"
            ]
          },
          "metadata": {
            "tags": []
          }
        },
        {
          "output_type": "stream",
          "text": [
            "Best cross-validation score: 0.955\n",
            "The best k from gridsearch : 0.1\n"
          ],
          "name": "stdout"
        }
      ]
    },
    {
      "cell_type": "code",
      "metadata": {
        "id": "oYjm5hWnt5HN",
        "colab_type": "code",
        "colab": {
          "base_uri": "https://localhost:8080/",
          "height": 317
        },
        "outputId": "36e6d592-53b1-4615-9a21-83e8fd1bbe4c"
      },
      "source": [
        "#test with test data we already defined a function just call the function\n",
        "test_data(X_train,Y_train,X_test,Y_test)"
      ],
      "execution_count": null,
      "outputs": [
        {
          "output_type": "display_data",
          "data": {
            "image/png": "[encoded data removed]",
            "text/plain": [
              "<Figure size 432x288 with 1 Axes>"
            ]
          },
          "metadata": {
            "tags": []
          }
        },
        {
          "output_type": "stream",
          "text": [
            "The AUC_score of test_data is : 0.9539436319626359\n"
          ],
          "name": "stdout"
        }
      ]
    },
    {
      "cell_type": "code",
      "metadata": {
        "id": "gtGlSc2_uUpK",
        "colab_type": "code",
        "colab": {
          "base_uri": "https://localhost:8080/",
          "height": 228
        },
        "outputId": "35d23d20-23d8-4ba2-af30-b313a515930f"
      },
      "source": [
        "# Top 10 important features of positive class \n",
        "feature_names=tf_idf.get_feature_names()\n",
        "model=MultinomialNB(alpha=best_alpha)\n",
        "model.fit(X_train, Y_train)\n",
        "a=getattr(model, 'feature_log_prob_') #Return the value of the named attribute of object. name must be a string. If the string is the name of one of the object’s attributes\n",
        "top =zip(a[1], feature_names)\n",
        "top=list(top)\n",
        "top.sort(key=lambda x: x[0])\n",
        "l=len(top)\n",
        "print('\\nThe Top 10 Positive Class Features are :\\n')\n",
        "for i in range(1,11):\n",
        "    print(top[l-i][1],end=\"\\n\")"
      ],
      "execution_count": null,
      "outputs": [
        {
          "output_type": "stream",
          "text": [
            "\n",
            "The Top 10 Positive Class Features are :\n",
            "\n",
            "high recommend\n",
            "tast great\n",
            "tast like\n",
            "gluten free\n",
            "groceri store\n",
            "tast good\n",
            "great product\n",
            "not like\n",
            "could not\n",
            "great tast\n"
          ],
          "name": "stdout"
        }
      ]
    },
    {
      "cell_type": "code",
      "metadata": {
        "id": "RfiH2ZSwufDd",
        "colab_type": "code",
        "colab": {
          "base_uri": "https://localhost:8080/",
          "height": 228
        },
        "outputId": "e958d732-1855-4dc0-a089-b20e6dbbe970"
      },
      "source": [
        "# Top 10 important features of Negative class \n",
        "feature_names=tf_idf.get_feature_names()\n",
        "model=MultinomialNB(alpha=best_alpha)\n",
        "model.fit(X_train, Y_train)\n",
        "a=getattr(model, 'feature_log_prob_') #Return the value of the named attribute of object. name must be a string. If the string is the name of one of the object’s attributes\n",
        "top =zip(a[0], feature_names)\n",
        "top=list(top)\n",
        "top.sort(key=lambda x: x[0])\n",
        "l=len(top)\n",
        "print('\\nThe Top 10 Negative Class Features are :\\n')\n",
        "for i in range(1,11):\n",
        "    print(top[l-i][1],end=\"\\n\")"
      ],
      "execution_count": null,
      "outputs": [
        {
          "output_type": "stream",
          "text": [
            "\n",
            "The Top 10 Negative Class Features are :\n",
            "\n",
            "tast like\n",
            "not buy\n",
            "would not\n",
            "not even\n",
            "wast money\n",
            "not like\n",
            "could not\n",
            "not good\n",
            "not tast\n",
            "not recommend\n"
          ],
          "name": "stdout"
        }
      ]
    },
    {
      "cell_type": "code",
      "metadata": {
        "id": "0gNoFnhQurj2",
        "colab_type": "code",
        "colab": {
          "base_uri": "https://localhost:8080/",
          "height": 447
        },
        "outputId": "59aaf6fa-26f6-4d12-f177-21588234937e"
      },
      "source": [
        "# computing the Performance matrics.\n",
        "# we already defined a function confusion matrix just call it.\n",
        "metric(X_train,Y_train,X_test,Y_test)"
      ],
      "execution_count": null,
      "outputs": [
        {
          "output_type": "stream",
          "text": [
            "              precision    recall  f1-score   support\n",
            "\n",
            "           0       0.87      0.57      0.69     17048\n",
            "           1       0.93      0.98      0.95     92204\n",
            "\n",
            "    accuracy                           0.92    109252\n",
            "   macro avg       0.90      0.78      0.82    109252\n",
            "weighted avg       0.92      0.92      0.91    109252\n",
            "\n"
          ],
          "name": "stdout"
        },
        {
          "output_type": "display_data",
          "data": {
            "image/png": "[encoded data removed]",
            "text/plain": [
              "<Figure size 432x288 with 2 Axes>"
            ]
          },
          "metadata": {
            "tags": []
          }
        }
      ]
    },
    {
      "cell_type": "markdown",
      "metadata": {
        "id": "6V3-O-N6vidv",
        "colab_type": "text"
      },
      "source": [
        "# Conclusions"
      ]
    },
    {
      "cell_type": "code",
      "metadata": {
        "id": "kkViXx25vkwO",
        "colab_type": "code",
        "colab": {
          "base_uri": "https://localhost:8080/",
          "height": 147
        },
        "outputId": "72862eaf-6214-44ee-c3cd-1db3b8574e69"
      },
      "source": [
        "from prettytable import PrettyTable\n",
        "    \n",
        "table = PrettyTable()\n",
        "table.field_names = [\"Vectorizer\", \"Model\", \" Hyper Parameter (alpha)\", \"AUC\"]\n",
        "table.add_row([\"Bow\", 'Brute_Forse', 0.1,80.18 ])\n",
        "table.add_row([\"TFIDF\", 'Brute_Forse', 0.1, 81.34])\n",
        "table.add_row([\"Bow\", 'kd_Tree', 49,79.15 ])\n",
        "table.add_row([\"TFIDF\", 'kd_Tree', 47,79.84 ])\n",
        "print(table)"
      ],
      "execution_count": null,
      "outputs": [
        {
          "output_type": "stream",
          "text": [
            "+------------+-------------+--------------------------+-------+\n",
            "| Vectorizer |    Model    |  Hyper Parameter (alpha) |  AUC  |\n",
            "+------------+-------------+--------------------------+-------+\n",
            "|    Bow     | Brute_Forse |            49            | 80.18 |\n",
            "|   TFIDF    | Brute_Forse |            49            | 81.34 |\n",
            "|    Bow     |   kd_Tree   |            49            | 79.15 |\n",
            "|   TFIDF    |   kd_Tree   |            47            | 79.84 |\n",
            "+------------+-------------+--------------------------+-------+\n"
          ],
          "name": "stdout"
        }
      ]
    },
    {
      "cell_type": "code",
      "metadata": {
        "id": "vboawMeSwmnq",
        "colab_type": "code",
        "colab": {}
      },
      "source": [
        ""
      ],
      "execution_count": null,
      "outputs": []
    }
  ]
}